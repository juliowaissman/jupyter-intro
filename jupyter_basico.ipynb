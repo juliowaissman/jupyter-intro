{
 "cells": [
  {
   "cell_type": "markdown",
   "metadata": {
    "slideshow": {
     "slide_type": "slide"
    }
   },
   "source": [
    "<img src=\"imagenes/logoLCCazul.jpg\" width=\"150\">\n",
    "<img src=\"http://www.identidadbuho.uson.mx/assets/letragrama-rgb-150.jpg\" width=\"150\">\n",
    "\n",
    "# Jupyter: Una introducción\n",
    "## Julio Waissman Vilanova\n",
    "`juliowaissman@gmail.com`"
   ]
  },
  {
   "attachments": {},
   "cell_type": "markdown",
   "metadata": {
    "slideshow": {
     "slide_type": "slide"
    }
   },
   "source": [
    "<img src=\"imagenes/jupyter.png\" width=\"100\">\n",
    "# ¿Que es Jupyter?\n",
    "\n",
    "1. Un entrono de *computación interactiva* atractivo\n",
    "2. Un entrono de [*literate programming*](https://en.wikipedia.org/wiki/Literate_programming) en python\n",
    "3. Un entrono para [*investigación reproducible*](https://reproducibleresearch.net)\n",
    "4. Una forma de generar tutoriales y material de autoaprendizaje amigables\n"
   ]
  },
  {
   "cell_type": "markdown",
   "metadata": {
    "slideshow": {
     "slide_type": "subslide"
    }
   },
   "source": [
    "# Historia\n",
    "1. Primera versión en diciembre 2011 como un método de libretas para *Ipython*.\n",
    "2. Inició como una versión para python de las libretas de *Mathematica*\n",
    "3. La arquitectura desarrollada permitió su uso más allá de *python*\n",
    "4. En 2014 se separan como proyecto independiente bajo el nombre de **Jupyter**"
   ]
  },
  {
   "cell_type": "markdown",
   "metadata": {
    "slideshow": {
     "slide_type": "subslide"
    }
   },
   "source": [
    "# Estructura de una libreta\n",
    "\n",
    "1. Se basa en el concepto de *celdas*\n",
    "2. Las celdas pueden ser de *código* o *texto*\n",
    "3. Las celdas de texto se realiza en *Markdown*\n",
    "    1. *Markdown* con sabor de *Github*\n",
    "    2. Incluye *MathJax*\n",
    "4. Las celdas de código se ejecutan en el orden solicitado en forma asíncrona\n",
    "5. El sistema guarda memoria de lo ejecutado"
   ]
  },
  {
   "cell_type": "markdown",
   "metadata": {
    "slideshow": {
     "slide_type": "subslide"
    }
   },
   "source": [
    "# Arquitectura del sistema\n",
    "\n",
    "1. Aplicación cliente-servidor \n",
    "2. El cliente interactúa a través de un navegador\n",
    "3. El servidor se compone de *Kernel* y *dashboard*\n",
    "    1. El *Kernel* ejecuta el codigo de las celdas\n",
    "    2. El dashboard se encarga de la visualización y las celdas de texto."
   ]
  },
  {
   "cell_type": "markdown",
   "metadata": {
    "slideshow": {
     "slide_type": "slide"
    }
   },
   "source": [
    "# ¿Que se requiere para poder utilizar Jupyter?\n",
    "\n",
    "1. Python instalado (i.e. la distribucion *Anaconda*)\n",
    "    1. Se requieren varias bibliotecas especializadas\n",
    "    2. Se basa en *Ipython* y *tornado* principalmente\n",
    "2. Al menos un kernel instalado (i.e. *Ipython*)\n",
    "    1. Python, R y/o Julia como nativos y con soporte oficial\n",
    "    2. [Kernel para muchos lenguajes desarrollados por la comunidad](https://github.com/jupyter/jupyter/wiki/Jupyter-kernels)\n"
   ]
  }
 ],
 "metadata": {
  "celltoolbar": "Slideshow",
  "kernelspec": {
   "display_name": "Python [default]",
   "language": "python",
   "name": "python3"
  },
  "language_info": {
   "codemirror_mode": {
    "name": "ipython",
    "version": 3
   },
   "file_extension": ".py",
   "mimetype": "text/x-python",
   "name": "python",
   "nbconvert_exporter": "python",
   "pygments_lexer": "ipython3",
   "version": "3.5.4"
  }
 },
 "nbformat": 4,
 "nbformat_minor": 2
}
